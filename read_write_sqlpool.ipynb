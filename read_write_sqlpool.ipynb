{
  "nbformat": 4,
  "nbformat_minor": 0,
  "metadata": {
    "application/vnd.databricks.v1+notebook": {
      "notebookName": "read_write_sqlpool",
      "dashboards": [],
      "notebookMetadata": {
        "pythonIndentUnit": 2
      },
      "language": "python",
      "widgets": {},
      "notebookOrigID": 2811826591155672
    },
    "colab": {
      "name": "read_write_sqlpool.ipynb",
      "provenance": [],
      "include_colab_link": true
    }
  },
  "cells": [
    {
      "cell_type": "markdown",
      "metadata": {
        "id": "view-in-github",
        "colab_type": "text"
      },
      "source": [
        "<a href=\"https://colab.research.google.com/github/carisa40/sql_commands/blob/master/read_write_sqlpool.ipynb\" target=\"_parent\"><img src=\"https://colab.research.google.com/assets/colab-badge.svg\" alt=\"Open In Colab\"/></a>"
      ]
    },
    {
      "cell_type": "code",
      "metadata": {
        "application/vnd.databricks.v1+cell": {
          "title": "",
          "showTitle": false,
          "inputWidgets": {},
          "nuid": "2cbef9ba-8cfc-4d0f-b913-095addd80a6e"
        },
        "id": "KdujxooEFHtG",
        "outputId": "3101caf7-a310-40ea-fea0-1018988e1ed4"
      },
      "source": [
        "# specifying the connection details\n",
        "\n",
        "jdbcHostname = \"sponsoredtelefonica.sql.azuresynapse.net\"\n",
        "jdbcDatabase = \"telefonicapool\"\n",
        "username = \"sqladmin_telefonica\"\n",
        "password = \"telefon2020@sclwk\"\n",
        "jdbcPort = 1433\n",
        "jdbcUrl = \"jdbc:sqlserver://{0}:{1};database={2};user={3};password={4}\".format(jdbcHostname, jdbcPort, jdbcDatabase, username, password)"
      ],
      "execution_count": null,
      "outputs": [
        {
          "output_type": "display_data",
          "data": {
            "text/html": [
              "<style scoped>\n",
              "  .ansiout {\n",
              "    display: block;\n",
              "    unicode-bidi: embed;\n",
              "    white-space: pre-wrap;\n",
              "    word-wrap: break-word;\n",
              "    word-break: break-all;\n",
              "    font-family: \"Source Code Pro\", \"Menlo\", monospace;;\n",
              "    font-size: 13px;\n",
              "    color: #555;\n",
              "    margin-left: 4px;\n",
              "    line-height: 19px;\n",
              "  }\n",
              "</style>\n",
              "<div class=\"ansiout\"></div>"
            ]
          },
          "metadata": {
            "tags": [],
            "application/vnd.databricks.v1+output": {
              "datasetInfos": [],
              "data": "<div class=\"ansiout\"></div>",
              "removedWidgets": [],
              "addedWidgets": {},
              "type": "html",
              "arguments": {}
            }
          }
        }
      ]
    },
    {
      "cell_type": "code",
      "metadata": {
        "application/vnd.databricks.v1+cell": {
          "title": "",
          "showTitle": false,
          "inputWidgets": {},
          "nuid": "02bf7f04-4e8b-48f4-bcb9-2ea7dfa5832a"
        },
        "id": "qtHjA2qqFHtN",
        "outputId": "55ec692c-d1c5-4b54-f513-bcfbde6f0925"
      },
      "source": [
        "# creating a spark table from the database table inside the pool\n",
        "remote_table = spark.read.format(\"jdbc\") \\\n",
        "                         .option(\"url\",jdbcUrl) \\\n",
        "                         .option(\"dbtable\", \"Final_DataFrame\") \\\n",
        "                         .load()\n"
      ],
      "execution_count": null,
      "outputs": [
        {
          "output_type": "display_data",
          "data": {
            "text/html": [
              "<style scoped>\n",
              "  .ansiout {\n",
              "    display: block;\n",
              "    unicode-bidi: embed;\n",
              "    white-space: pre-wrap;\n",
              "    word-wrap: break-word;\n",
              "    word-break: break-all;\n",
              "    font-family: \"Source Code Pro\", \"Menlo\", monospace;;\n",
              "    font-size: 13px;\n",
              "    color: #555;\n",
              "    margin-left: 4px;\n",
              "    line-height: 19px;\n",
              "  }\n",
              "</style>\n",
              "<div class=\"ansiout\"></div>"
            ]
          },
          "metadata": {
            "tags": [],
            "application/vnd.databricks.v1+output": {
              "datasetInfos": [
                {
                  "name": "remote_table",
                  "typeStr": "pyspark.sql.dataframe.DataFrame",
                  "schema": {
                    "fields": [
                      {
                        "metadata": {},
                        "name": "VO_Nummer",
                        "nullable": true,
                        "type": "string"
                      },
                      {
                        "metadata": {},
                        "name": "BV_TO",
                        "nullable": true,
                        "type": "long"
                      },
                      {
                        "metadata": {},
                        "name": "HH_low",
                        "nullable": true,
                        "type": "double"
                      },
                      {
                        "metadata": {},
                        "name": "HH_medium",
                        "nullable": true,
                        "type": "double"
                      },
                      {
                        "metadata": {},
                        "name": "HH_high",
                        "nullable": true,
                        "type": "double"
                      },
                      {
                        "metadata": {},
                        "name": "PRIKEURO",
                        "nullable": true,
                        "type": "double"
                      },
                      {
                        "metadata": {},
                        "name": "PRIK_BV",
                        "nullable": true,
                        "type": "double"
                      },
                      {
                        "metadata": {},
                        "name": "PRIK_IDX",
                        "nullable": true,
                        "type": "double"
                      },
                      {
                        "metadata": {},
                        "name": "PRIK_IOW",
                        "nullable": true,
                        "type": "double"
                      },
                      {
                        "metadata": {},
                        "name": "PRIK_M",
                        "nullable": true,
                        "type": "double"
                      },
                      {
                        "metadata": {},
                        "name": "PH_TO",
                        "nullable": true,
                        "type": "long"
                      },
                      {
                        "metadata": {},
                        "name": "under10",
                        "nullable": true,
                        "type": "double"
                      },
                      {
                        "metadata": {},
                        "name": "under18",
                        "nullable": true,
                        "type": "double"
                      },
                      {
                        "metadata": {},
                        "name": "B18_25",
                        "nullable": true,
                        "type": "double"
                      },
                      {
                        "metadata": {},
                        "name": "B25_35",
                        "nullable": true,
                        "type": "double"
                      },
                      {
                        "metadata": {},
                        "name": "B35_50",
                        "nullable": true,
                        "type": "double"
                      },
                      {
                        "metadata": {},
                        "name": "B50_65",
                        "nullable": true,
                        "type": "double"
                      },
                      {
                        "metadata": {},
                        "name": "above65",
                        "nullable": true,
                        "type": "double"
                      },
                      {
                        "metadata": {},
                        "name": "EHK_BV",
                        "nullable": true,
                        "type": "double"
                      },
                      {
                        "metadata": {},
                        "name": "EHK_IDX",
                        "nullable": true,
                        "type": "double"
                      },
                      {
                        "metadata": {},
                        "name": "EH_KK",
                        "nullable": true,
                        "type": "double"
                      },
                      {
                        "metadata": {},
                        "name": "WE1_2",
                        "nullable": true,
                        "type": "double"
                      },
                      {
                        "metadata": {},
                        "name": "WE3_4",
                        "nullable": true,
                        "type": "double"
                      },
                      {
                        "metadata": {},
                        "name": "WE5_11",
                        "nullable": true,
                        "type": "double"
                      },
                      {
                        "metadata": {},
                        "name": "WE12above",
                        "nullable": true,
                        "type": "double"
                      },
                      {
                        "metadata": {},
                        "name": "Anzahl_Parkplätze_binned_0_2000",
                        "nullable": true,
                        "type": "long"
                      },
                      {
                        "metadata": {},
                        "name": "Anzahl_Parkplätze_binned_2000_4000",
                        "nullable": true,
                        "type": "long"
                      },
                      {
                        "metadata": {},
                        "name": "Anzahl_Parkplätze_binned_4000_6000",
                        "nullable": true,
                        "type": "long"
                      },
                      {
                        "metadata": {},
                        "name": "Anzahl_Parkplätze_binned_6000_8000",
                        "nullable": true,
                        "type": "long"
                      },
                      {
                        "metadata": {},
                        "name": "Anzahl_Parkplätze_binned_8000_10000",
                        "nullable": true,
                        "type": "long"
                      },
                      {
                        "metadata": {},
                        "name": "Anzahl_Parkplätze_binned_10000_12000",
                        "nullable": true,
                        "type": "long"
                      },
                      {
                        "metadata": {},
                        "name": "Anzahl_Parkplätze_binned_12000_14000",
                        "nullable": true,
                        "type": "long"
                      },
                      {
                        "metadata": {},
                        "name": "Anzahl_Parkplätze_binned_nan",
                        "nullable": true,
                        "type": "long"
                      },
                      {
                        "metadata": {},
                        "name": "Barrierefreiheit_Ja",
                        "nullable": true,
                        "type": "long"
                      },
                      {
                        "metadata": {},
                        "name": "Barrierefreiheit_Nein",
                        "nullable": true,
                        "type": "long"
                      },
                      {
                        "metadata": {},
                        "name": "Barrierefreiheit_nan",
                        "nullable": true,
                        "type": "long"
                      },
                      {
                        "metadata": {},
                        "name": "Kunden_WLAN_Ja",
                        "nullable": true,
                        "type": "long"
                      },
                      {
                        "metadata": {},
                        "name": "Kunden_WLAN_Nein",
                        "nullable": true,
                        "type": "long"
                      },
                      {
                        "metadata": {},
                        "name": "Kunden_WLAN_nan",
                        "nullable": true,
                        "type": "long"
                      },
                      {
                        "metadata": {},
                        "name": "Kaffeebar_Ja",
                        "nullable": true,
                        "type": "long"
                      },
                      {
                        "metadata": {},
                        "name": "Kaffeebar_Nein",
                        "nullable": true,
                        "type": "long"
                      },
                      {
                        "metadata": {},
                        "name": "Kaffeebar_nan",
                        "nullable": true,
                        "type": "long"
                      },
                      {
                        "metadata": {},
                        "name": "Shop_Konzept_BASE_CAMP",
                        "nullable": true,
                        "type": "long"
                      },
                      {
                        "metadata": {},
                        "name": "Shop_Konzept_Classic",
                        "nullable": true,
                        "type": "long"
                      },
                      {
                        "metadata": {},
                        "name": "Shop_Konzept_Hamburger_Modell",
                        "nullable": true,
                        "type": "long"
                      },
                      {
                        "metadata": {},
                        "name": "Shop_Konzept_Marketplace",
                        "nullable": true,
                        "type": "long"
                      },
                      {
                        "metadata": {},
                        "name": "Shop_Konzept_Marketplace_Fresh",
                        "nullable": true,
                        "type": "long"
                      },
                      {
                        "metadata": {},
                        "name": "Shop_Konzept_Pure",
                        "nullable": true,
                        "type": "long"
                      },
                      {
                        "metadata": {},
                        "name": "Shop_Konzept_Shop_of_the_Future",
                        "nullable": true,
                        "type": "long"
                      },
                      {
                        "metadata": {},
                        "name": "Shop_Konzept_Shop_of_the_Future_2",
                        "nullable": true,
                        "type": "long"
                      },
                      {
                        "metadata": {},
                        "name": "Shop_Konzept_Shop_of_the_Future_Evolution",
                        "nullable": true,
                        "type": "long"
                      },
                      {
                        "metadata": {},
                        "name": "Shop_Konzept_Wiener_Modell",
                        "nullable": true,
                        "type": "long"
                      },
                      {
                        "metadata": {},
                        "name": "Shop_Konzept_o2_Live",
                        "nullable": true,
                        "type": "long"
                      },
                      {
                        "metadata": {},
                        "name": "Shop-Konzept_nan",
                        "nullable": true,
                        "type": "long"
                      },
                      {
                        "metadata": {},
                        "name": "Branche_PC_Internal",
                        "nullable": true,
                        "type": "long"
                      },
                      {
                        "metadata": {},
                        "name": "Branche_nan",
                        "nullable": true,
                        "type": "long"
                      },
                      {
                        "metadata": {},
                        "name": "Handy-Reparaturannahme_Ja",
                        "nullable": true,
                        "type": "long"
                      },
                      {
                        "metadata": {},
                        "name": "Handy-Reparaturannahme_Nein",
                        "nullable": true,
                        "type": "long"
                      },
                      {
                        "metadata": {},
                        "name": "Handy-Reparaturannahme_nan",
                        "nullable": true,
                        "type": "long"
                      },
                      {
                        "metadata": {},
                        "name": "REGIO_12_0",
                        "nullable": true,
                        "type": "long"
                      },
                      {
                        "metadata": {},
                        "name": "REGIO_13_0",
                        "nullable": true,
                        "type": "long"
                      },
                      {
                        "metadata": {},
                        "name": "REGIO_14_0",
                        "nullable": true,
                        "type": "long"
                      },
                      {
                        "metadata": {},
                        "name": "REGIO_22_0",
                        "nullable": true,
                        "type": "long"
                      },
                      {
                        "metadata": {},
                        "name": "REGIO_23_0",
                        "nullable": true,
                        "type": "long"
                      },
                      {
                        "metadata": {},
                        "name": "REGIO_24_0",
                        "nullable": true,
                        "type": "long"
                      },
                      {
                        "metadata": {},
                        "name": "REGIO_32_0",
                        "nullable": true,
                        "type": "long"
                      },
                      {
                        "metadata": {},
                        "name": "REGIO_33_0",
                        "nullable": true,
                        "type": "long"
                      },
                      {
                        "metadata": {},
                        "name": "REGIO_34_0",
                        "nullable": true,
                        "type": "long"
                      },
                      {
                        "metadata": {},
                        "name": "REGIO_nan",
                        "nullable": true,
                        "type": "long"
                      },
                      {
                        "metadata": {},
                        "name": "REGIO_K_11_0",
                        "nullable": true,
                        "type": "long"
                      },
                      {
                        "metadata": {},
                        "name": "REGIO_K_12_0",
                        "nullable": true,
                        "type": "long"
                      },
                      {
                        "metadata": {},
                        "name": "REGIO_K_13_0",
                        "nullable": true,
                        "type": "long"
                      },
                      {
                        "metadata": {},
                        "name": "REGIO_K_14_0",
                        "nullable": true,
                        "type": "long"
                      },
                      {
                        "metadata": {},
                        "name": "REGIO_K_22_0",
                        "nullable": true,
                        "type": "long"
                      },
                      {
                        "metadata": {},
                        "name": "REGIO_K_23_0",
                        "nullable": true,
                        "type": "long"
                      },
                      {
                        "metadata": {},
                        "name": "REGIO_K_24_0",
                        "nullable": true,
                        "type": "long"
                      },
                      {
                        "metadata": {},
                        "name": "REGIO_K_32_0",
                        "nullable": true,
                        "type": "long"
                      },
                      {
                        "metadata": {},
                        "name": "REGIO_K_33_0",
                        "nullable": true,
                        "type": "long"
                      },
                      {
                        "metadata": {},
                        "name": "REGIO_K_34_0",
                        "nullable": true,
                        "type": "long"
                      },
                      {
                        "metadata": {},
                        "name": "REGIO_K_nan",
                        "nullable": true,
                        "type": "long"
                      },
                      {
                        "metadata": {},
                        "name": "REGIO_S_1_0",
                        "nullable": true,
                        "type": "long"
                      },
                      {
                        "metadata": {},
                        "name": "REGIO_S_2_0",
                        "nullable": true,
                        "type": "long"
                      },
                      {
                        "metadata": {},
                        "name": "REGIO_S_3_0",
                        "nullable": true,
                        "type": "long"
                      },
                      {
                        "metadata": {},
                        "name": "REGIO_S_nan",
                        "nullable": true,
                        "type": "long"
                      },
                      {
                        "metadata": {},
                        "name": "REGIO_Z_2_0",
                        "nullable": true,
                        "type": "long"
                      },
                      {
                        "metadata": {},
                        "name": "REGIO_Z_3_0",
                        "nullable": true,
                        "type": "long"
                      },
                      {
                        "metadata": {},
                        "name": "REGIO_Z_4_0",
                        "nullable": true,
                        "type": "long"
                      },
                      {
                        "metadata": {},
                        "name": "REGIO_Z_nan",
                        "nullable": true,
                        "type": "long"
                      },
                      {
                        "metadata": {},
                        "name": "bus_stop_distance",
                        "nullable": true,
                        "type": "double"
                      },
                      {
                        "metadata": {},
                        "name": "electronics_distance",
                        "nullable": true,
                        "type": "double"
                      },
                      {
                        "metadata": {},
                        "name": "station_distance",
                        "nullable": true,
                        "type": "double"
                      },
                      {
                        "metadata": {},
                        "name": "bank_distance",
                        "nullable": true,
                        "type": "double"
                      },
                      {
                        "metadata": {},
                        "name": "park_distance",
                        "nullable": true,
                        "type": "double"
                      },
                      {
                        "metadata": {},
                        "name": "amenity_count",
                        "nullable": true,
                        "type": "double"
                      },
                      {
                        "metadata": {},
                        "name": "highway_count",
                        "nullable": true,
                        "type": "double"
                      },
                      {
                        "metadata": {},
                        "name": "bus_count",
                        "nullable": true,
                        "type": "double"
                      },
                      {
                        "metadata": {},
                        "name": "public_transport_count",
                        "nullable": true,
                        "type": "double"
                      },
                      {
                        "metadata": {},
                        "name": "shop_count",
                        "nullable": true,
                        "type": "double"
                      },
                      {
                        "metadata": {},
                        "name": "railway_count",
                        "nullable": true,
                        "type": "double"
                      },
                      {
                        "metadata": {},
                        "name": "train_count",
                        "nullable": true,
                        "type": "double"
                      },
                      {
                        "metadata": {},
                        "name": "atm_count",
                        "nullable": true,
                        "type": "double"
                      },
                      {
                        "metadata": {},
                        "name": "parking_count",
                        "nullable": true,
                        "type": "double"
                      },
                      {
                        "metadata": {},
                        "name": "bicycle_parking_count",
                        "nullable": true,
                        "type": "double"
                      },
                      {
                        "metadata": {},
                        "name": "station_count",
                        "nullable": true,
                        "type": "double"
                      },
                      {
                        "metadata": {},
                        "name": "healthcare_count",
                        "nullable": true,
                        "type": "double"
                      },
                      {
                        "metadata": {},
                        "name": "beauty_count",
                        "nullable": true,
                        "type": "double"
                      },
                      {
                        "metadata": {},
                        "name": "bicycle_rental_count",
                        "nullable": true,
                        "type": "double"
                      },
                      {
                        "metadata": {},
                        "name": "social_facility_count",
                        "nullable": true,
                        "type": "double"
                      },
                      {
                        "metadata": {},
                        "name": "leisure_count",
                        "nullable": true,
                        "type": "double"
                      },
                      {
                        "metadata": {},
                        "name": "Week_Total_Hours",
                        "nullable": true,
                        "type": "double"
                      },
                      {
                        "metadata": {},
                        "name": "o2_PO_GA",
                        "nullable": true,
                        "type": "double"
                      },
                      {
                        "metadata": {},
                        "name": "o2_Prepaid_GA",
                        "nullable": true,
                        "type": "double"
                      },
                      {
                        "metadata": {},
                        "name": "Orders_DSL_Incoming",
                        "nullable": true,
                        "type": "double"
                      },
                      {
                        "metadata": {},
                        "name": "Net_explicit_VVL",
                        "nullable": true,
                        "type": "double"
                      },
                      {
                        "metadata": {},
                        "name": "OPEX_Personal",
                        "nullable": true,
                        "type": "double"
                      },
                      {
                        "metadata": {},
                        "name": "OPEX_Miete",
                        "nullable": true,
                        "type": "double"
                      },
                      {
                        "metadata": {},
                        "name": "GM_je_GA_PO",
                        "nullable": true,
                        "type": "double"
                      },
                      {
                        "metadata": {},
                        "name": "GM_je_VVL_PO",
                        "nullable": true,
                        "type": "double"
                      },
                      {
                        "metadata": {},
                        "name": "GM_je_GA_DSL",
                        "nullable": true,
                        "type": "double"
                      },
                      {
                        "metadata": {},
                        "name": "Costs_Total",
                        "nullable": true,
                        "type": "double"
                      },
                      {
                        "metadata": {},
                        "name": "google_average_rating",
                        "nullable": true,
                        "type": "double"
                      }
                    ],
                    "type": "struct"
                  },
                  "tableIdentifier": null
                }
              ],
              "data": "<div class=\"ansiout\"></div>",
              "removedWidgets": [],
              "addedWidgets": {},
              "type": "html",
              "arguments": {}
            }
          }
        }
      ]
    },
    {
      "cell_type": "code",
      "metadata": {
        "application/vnd.databricks.v1+cell": {
          "title": "",
          "showTitle": false,
          "inputWidgets": {},
          "nuid": "12ea9cba-79e7-466d-9c1d-22a95697b12f"
        },
        "id": "xcWYu5EiFHtO",
        "outputId": "97849474-a588-4d49-ab4d-4ae9f26fa8a4"
      },
      "source": [
        "# this configuration must be set to enable one to access the spark table\n",
        "\n",
        "\n",
        "sc._jsc.hadoopConfiguration().set(\n",
        "  \"fs.azure.account.key.sponsoredtelefonicalake.blob.core.windows.net\",\n",
        "  \"61B7uSwOkgBBc3winOXC7tR7cNbMesJyxLJtLA7INzn6VeP/JCsIwP0x7PK3ZMlQ+yDL/mjv3eXxrZZO/tugmg==\") # this is the access key for the data lake storage account\n"
      ],
      "execution_count": null,
      "outputs": [
        {
          "output_type": "display_data",
          "data": {
            "text/html": [
              "<style scoped>\n",
              "  .ansiout {\n",
              "    display: block;\n",
              "    unicode-bidi: embed;\n",
              "    white-space: pre-wrap;\n",
              "    word-wrap: break-word;\n",
              "    word-break: break-all;\n",
              "    font-family: \"Source Code Pro\", \"Menlo\", monospace;;\n",
              "    font-size: 13px;\n",
              "    color: #555;\n",
              "    margin-left: 4px;\n",
              "    line-height: 19px;\n",
              "  }\n",
              "</style>\n",
              "<div class=\"ansiout\"></div>"
            ]
          },
          "metadata": {
            "tags": [],
            "application/vnd.databricks.v1+output": {
              "datasetInfos": [],
              "data": "<div class=\"ansiout\"></div>",
              "removedWidgets": [],
              "addedWidgets": {},
              "type": "html",
              "arguments": {}
            }
          }
        }
      ]
    },
    {
      "cell_type": "code",
      "metadata": {
        "application/vnd.databricks.v1+cell": {
          "title": "",
          "showTitle": false,
          "inputWidgets": {},
          "nuid": "32c8f0d9-9443-450a-a34a-e7ca0f8db56d"
        },
        "id": "AugLeCgMFHtP",
        "outputId": "b6113595-ab08-40a3-dd31-8451f3afb758"
      },
      "source": [
        "# testing the process of writing to the database.\n",
        "\n",
        "sample = [(\"kofi\",10), (\"Ama\",20), (\"kwame\",30), (\"adjoa\",40)]\n",
        "\n",
        "Columns = [\"name\",\"age\"]\n",
        "sample_df = spark.createDataFrame(data=sample, schema = Columns)\n",
        "sample_df.printSchema()\n",
        "sample_df.show(truncate=False)"
      ],
      "execution_count": null,
      "outputs": [
        {
          "output_type": "display_data",
          "data": {
            "text/html": [
              "<style scoped>\n",
              "  .ansiout {\n",
              "    display: block;\n",
              "    unicode-bidi: embed;\n",
              "    white-space: pre-wrap;\n",
              "    word-wrap: break-word;\n",
              "    word-break: break-all;\n",
              "    font-family: \"Source Code Pro\", \"Menlo\", monospace;;\n",
              "    font-size: 13px;\n",
              "    color: #555;\n",
              "    margin-left: 4px;\n",
              "    line-height: 19px;\n",
              "  }\n",
              "</style>\n",
              "<div class=\"ansiout\">root\n",
              "-- name: string (nullable = true)\n",
              "-- age: long (nullable = true)\n",
              "\n",
              "+-----+---+\n",
              "name |age|\n",
              "+-----+---+\n",
              "kofi |10 |\n",
              "Ama  |20 |\n",
              "kwame|30 |\n",
              "adjoa|40 |\n",
              "+-----+---+\n",
              "\n",
              "</div>"
            ]
          },
          "metadata": {
            "tags": [],
            "application/vnd.databricks.v1+output": {
              "datasetInfos": [
                {
                  "name": "sample_df",
                  "typeStr": "pyspark.sql.dataframe.DataFrame",
                  "schema": {
                    "fields": [
                      {
                        "metadata": {},
                        "name": "name",
                        "nullable": true,
                        "type": "string"
                      },
                      {
                        "metadata": {},
                        "name": "age",
                        "nullable": true,
                        "type": "long"
                      }
                    ],
                    "type": "struct"
                  },
                  "tableIdentifier": null
                }
              ],
              "data": "<div class=\"ansiout\">root\n |-- name: string (nullable = true)\n |-- age: long (nullable = true)\n\n+-----+---+\n|name |age|\n+-----+---+\n|kofi |10 |\n|Ama  |20 |\n|kwame|30 |\n|adjoa|40 |\n+-----+---+\n\n</div>",
              "removedWidgets": [],
              "addedWidgets": {},
              "type": "html",
              "arguments": {}
            }
          }
        }
      ]
    },
    {
      "cell_type": "code",
      "metadata": {
        "application/vnd.databricks.v1+cell": {
          "title": "",
          "showTitle": false,
          "inputWidgets": {},
          "nuid": "39a2aea3-eda9-4909-9d00-ff257de10de8"
        },
        "id": "wSFBY14dFHtQ",
        "outputId": "1485a890-0b54-4395-b5a2-6ac5f9781a22"
      },
      "source": [
        "# code for creating a csv on databricks\n",
        "\n",
        "sample_df.coalesce(1).write.format(\"com.databricks.spark.csv\").option(\"header\", \"true\").save(\"dbfs:/FileStore/df/Sample.csv\")"
      ],
      "execution_count": null,
      "outputs": [
        {
          "output_type": "display_data",
          "data": {
            "text/html": [
              "<style scoped>\n",
              "  .ansiout {\n",
              "    display: block;\n",
              "    unicode-bidi: embed;\n",
              "    white-space: pre-wrap;\n",
              "    word-wrap: break-word;\n",
              "    word-break: break-all;\n",
              "    font-family: \"Source Code Pro\", \"Menlo\", monospace;;\n",
              "    font-size: 13px;\n",
              "    color: #555;\n",
              "    margin-left: 4px;\n",
              "    line-height: 19px;\n",
              "  }\n",
              "</style>\n",
              "<div class=\"ansiout\"></div>"
            ]
          },
          "metadata": {
            "tags": [],
            "application/vnd.databricks.v1+output": {
              "datasetInfos": [],
              "data": "<div class=\"ansiout\"></div>",
              "removedWidgets": [],
              "addedWidgets": {},
              "type": "html",
              "arguments": {}
            }
          }
        }
      ]
    },
    {
      "cell_type": "code",
      "metadata": {
        "application/vnd.databricks.v1+cell": {
          "title": "",
          "showTitle": false,
          "inputWidgets": {},
          "nuid": "13bb0bf4-a63b-4e19-bb2c-4fa38366b8f8"
        },
        "id": "8oni50a-FHtQ",
        "outputId": "ba5e8cc4-f564-4001-cc65-6a355e379910"
      },
      "source": [
        "# Writing a new table to the database\n",
        "\n",
        "sample_df.write \\\n",
        "  .format(\"com.databricks.spark.sqldw\") \\\n",
        "  .option(\"url\", jdbcUrl) \\\n",
        "  .option(\"forwardSparkAzureStorageCredentials\", \"true\") \\\n",
        "  .option(\"tempDir\", \"wasbs://root@sponsoredtelefonicalake.blob.core.windows.net/tesst\") \\\n",
        "  .option(\"dbTable\", \"dbo.test\") \\\n",
        "  .save()"
      ],
      "execution_count": null,
      "outputs": [
        {
          "output_type": "display_data",
          "data": {
            "text/html": [
              "<style scoped>\n",
              "  .ansiout {\n",
              "    display: block;\n",
              "    unicode-bidi: embed;\n",
              "    white-space: pre-wrap;\n",
              "    word-wrap: break-word;\n",
              "    word-break: break-all;\n",
              "    font-family: \"Source Code Pro\", \"Menlo\", monospace;;\n",
              "    font-size: 13px;\n",
              "    color: #555;\n",
              "    margin-left: 4px;\n",
              "    line-height: 19px;\n",
              "  }\n",
              "</style>\n",
              "<div class=\"ansiout\"></div>"
            ]
          },
          "metadata": {
            "tags": [],
            "application/vnd.databricks.v1+output": {
              "datasetInfos": [],
              "data": "<div class=\"ansiout\"></div>",
              "removedWidgets": [],
              "addedWidgets": {},
              "type": "html",
              "arguments": {}
            }
          }
        }
      ]
    },
    {
      "cell_type": "code",
      "metadata": {
        "application/vnd.databricks.v1+cell": {
          "title": "",
          "showTitle": false,
          "inputWidgets": {},
          "nuid": "7bcbb61f-8077-4dac-9f6d-ad889c40463d"
        },
        "id": "UnO2Xvs2FHtR",
        "outputId": "059cbd13-671e-4405-cd9b-792d0e9a9405"
      },
      "source": [
        "# testing an append feature\n",
        "append_sample = [(\"esi\",10), (\"esinam\",20)]\n",
        "\n",
        "append_sample_df = spark.createDataFrame(data=append_sample, schema = Columns)\n",
        "append_sample_df.printSchema()\n",
        "append_sample_df.show(truncate=False)\n"
      ],
      "execution_count": null,
      "outputs": [
        {
          "output_type": "display_data",
          "data": {
            "text/html": [
              "<style scoped>\n",
              "  .ansiout {\n",
              "    display: block;\n",
              "    unicode-bidi: embed;\n",
              "    white-space: pre-wrap;\n",
              "    word-wrap: break-word;\n",
              "    word-break: break-all;\n",
              "    font-family: \"Source Code Pro\", \"Menlo\", monospace;;\n",
              "    font-size: 13px;\n",
              "    color: #555;\n",
              "    margin-left: 4px;\n",
              "    line-height: 19px;\n",
              "  }\n",
              "</style>\n",
              "<div class=\"ansiout\">root\n",
              "-- name: string (nullable = true)\n",
              "-- age: long (nullable = true)\n",
              "\n",
              "+------+---+\n",
              "name  |age|\n",
              "+------+---+\n",
              "esi   |10 |\n",
              "esinam|20 |\n",
              "+------+---+\n",
              "\n",
              "</div>"
            ]
          },
          "metadata": {
            "tags": [],
            "application/vnd.databricks.v1+output": {
              "datasetInfos": [
                {
                  "name": "append_sample_df",
                  "typeStr": "pyspark.sql.dataframe.DataFrame",
                  "schema": {
                    "fields": [
                      {
                        "metadata": {},
                        "name": "name",
                        "nullable": true,
                        "type": "string"
                      },
                      {
                        "metadata": {},
                        "name": "age",
                        "nullable": true,
                        "type": "long"
                      }
                    ],
                    "type": "struct"
                  },
                  "tableIdentifier": null
                }
              ],
              "data": "<div class=\"ansiout\">root\n |-- name: string (nullable = true)\n |-- age: long (nullable = true)\n\n+------+---+\n|name  |age|\n+------+---+\n|esi   |10 |\n|esinam|20 |\n+------+---+\n\n</div>",
              "removedWidgets": [],
              "addedWidgets": {},
              "type": "html",
              "arguments": {}
            }
          }
        }
      ]
    },
    {
      "cell_type": "code",
      "metadata": {
        "application/vnd.databricks.v1+cell": {
          "title": "",
          "showTitle": false,
          "inputWidgets": {},
          "nuid": "0987013c-913f-4661-aa9a-5ec3146fbdf2"
        },
        "id": "8hylTqEzFHtR",
        "outputId": "583dbed1-e571-44ce-9dcd-1fd2ce522d2c"
      },
      "source": [
        "append_sample_df.write \\\n",
        "  .format(\"com.databricks.spark.sqldw\") \\\n",
        "  .mode(\"append\") \\\n",
        "  .option(\"url\", jdbcUrl) \\\n",
        "  .option(\"forwardSparkAzureStorageCredentials\", \"true\") \\\n",
        "  .option(\"tempDir\", \"wasbs://root@sponsoredtelefonicalake.blob.core.windows.net/tesst\") \\\n",
        "  .option(\"dbTable\", \"dbo.test\") \\\n",
        "  .save()"
      ],
      "execution_count": null,
      "outputs": [
        {
          "output_type": "display_data",
          "data": {
            "text/html": [
              "<style scoped>\n",
              "  .ansiout {\n",
              "    display: block;\n",
              "    unicode-bidi: embed;\n",
              "    white-space: pre-wrap;\n",
              "    word-wrap: break-word;\n",
              "    word-break: break-all;\n",
              "    font-family: \"Source Code Pro\", \"Menlo\", monospace;;\n",
              "    font-size: 13px;\n",
              "    color: #555;\n",
              "    margin-left: 4px;\n",
              "    line-height: 19px;\n",
              "  }\n",
              "</style>\n",
              "<div class=\"ansiout\"></div>"
            ]
          },
          "metadata": {
            "tags": [],
            "application/vnd.databricks.v1+output": {
              "datasetInfos": [],
              "data": "<div class=\"ansiout\"></div>",
              "removedWidgets": [],
              "addedWidgets": {},
              "type": "html",
              "arguments": {}
            }
          }
        }
      ]
    },
    {
      "cell_type": "code",
      "metadata": {
        "application/vnd.databricks.v1+cell": {
          "title": "",
          "showTitle": false,
          "inputWidgets": {},
          "nuid": "a5493dd6-0dae-46ff-a255-997eca6d6cbc"
        },
        "id": "-kxO5y12FHtR"
      },
      "source": [
        ""
      ],
      "execution_count": null,
      "outputs": []
    }
  ]
}